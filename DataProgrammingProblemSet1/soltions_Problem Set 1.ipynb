{
 "cells": [
  {
   "cell_type": "markdown",
   "metadata": {},
   "source": [
    "# Question 1 C# "
   ]
  },
  {
   "cell_type": "markdown",
   "metadata": {},
   "source": [
    "What data typeis each of the following?"
   ]
  },
  {
   "cell_type": "markdown",
   "metadata": {},
   "source": [
    "5 =integer\n",
    "5.0 =float\n",
    "5 > 1 =bool\n",
    "'5' =string\n",
    "5 * 2 =integer\n",
    "'5' * 2 =string\n",
    "'5' + '2' =string\n",
    "5 / 2 =float\n",
    "5 // 2 =integer\n",
    "[5, 2, 1] = =list\n",
    "5 in [1, 4, 6] =bool\n",
    "Pi (the number)=float"
   ]
  },
  {
   "cell_type": "markdown",
   "metadata": {},
   "source": [
    "# Question 2 C#"
   ]
  },
  {
   "cell_type": "markdown",
   "metadata": {},
   "source": [
    "Write (and evaluate) C# expressions that answer these questions:\n",
    "a.\tHow many letters in 'Supercalifragilisticexpialidocious'?"
   ]
  },
  {
   "cell_type": "markdown",
   "metadata": {},
   "source": [
    "using System;\n",
    "namespace solutionForProgramSet1\n",
    "{\n",
    "    class Program\n",
    "    {\n",
    "        static void Main(string[] args)\n",
    "        {\n",
    "            Console.Write(\"Enter your word : \");\n",
    "            string word = Console.ReadLine();\n",
    "            int wordLength = word.Length;\n",
    "            Console.Write(\"Lenth of word : \" + wordLength);\n",
    "        }\n",
    "    }\n",
    "}\n"
   ]
  },
  {
   "cell_type": "markdown",
   "metadata": {},
   "source": [
    "<img src=\"ProblemSet1_CSharp_Outputs/output_Ques2(a).png\">"
   ]
  },
  {
   "cell_type": "markdown",
   "metadata": {},
   "source": [
    "b.\tDoes 'Supercalifragilisticexpialidocious' contain 'ice' as a substring?"
   ]
  },
  {
   "cell_type": "markdown",
   "metadata": {},
   "source": [
    "using System;\n",
    "\n",
    "\n",
    "namespace solutionForProgramSet1\n",
    "{\n",
    "    class Program\n",
    "    {\n",
    "        static void Main(string[] args)\n",
    "        {\n",
    "            string word = \"Supercalifragilisticexpialidocious\";\n",
    "            string word1 = \"ice\";\n",
    "           if(word.Contains(\"ice\"))\n",
    "            {\n",
    "                Console.Write(\"Yes \"+word+\" contains \"+word1);\n",
    "            } \n",
    "            else\n",
    "            {\n",
    "                Console.Write(word + \" do not contains \" + word1);\n",
    "            }\n",
    "        }\n",
    "    }\n",
    "}\n"
   ]
  },
  {
   "cell_type": "markdown",
   "metadata": {},
   "source": [
    "<img src=\"ProblemSet1_CSharp_Outputs/output_Ques2(b).png\">"
   ]
  },
  {
   "cell_type": "markdown",
   "metadata": {},
   "source": [
    "c.\tWhich of the following words is the longest: Supercalifragilisticexpialidocious, Honorificabilitudinitatibus,or Bababadalgharaghtakamminarronnkonn?"
   ]
  },
  {
   "cell_type": "markdown",
   "metadata": {},
   "source": [
    "using System;\n",
    "using System.Linq;\n",
    "\n",
    "namespace solutionForProgramSet1\n",
    "{\n",
    "    class Program\n",
    "    {\n",
    "        static void Main(string[] args)\n",
    "        {\n",
    "            string[] word = { \"Supercalifragilisticexpialidocious\", \"Honorificabilitudinitatibus\", \"Bababadalgharaghtakamminarronnkonn\" };\n",
    "            var finalValue = word.OrderByDescending(n => n.Length).First();\n",
    "            Console.WriteLine(\"Largest word is: \" + finalValue);            \n",
    "        }\n",
    "    }\n",
    "}\n"
   ]
  },
  {
   "cell_type": "markdown",
   "metadata": {},
   "source": [
    "<img src=\"ProblemSet1_CSharp_Outputs/output_Ques2(c).png\">"
   ]
  },
  {
   "cell_type": "markdown",
   "metadata": {},
   "source": [
    "d.\tWhich composer comes first in the dictionary: 'Berlioz', 'Borodin', 'Brian', 'Bartok', 'Bellini', 'Buxtehude', 'Bernstein'. Which one comes last?"
   ]
  },
  {
   "cell_type": "markdown",
   "metadata": {},
   "source": [
    "using System;\n",
    "using System.Linq;\n",
    "\n",
    "namespace solutionForProgramSet1\n",
    "{\n",
    "    class Program\n",
    "    {\n",
    "        static void Main(string[] args)\n",
    "        {\n",
    "            string[] composers = new string[]{\"Berlioz\", \"Borodin\", \"Brian\", \"Bartok\", \"Bellini\", \"Buxtehude\", \"Bernstein\"};\n",
    "            Array.Sort(composers);\n",
    "            string firstWord= composers.First();\n",
    "            string lastWord= composers.Last();\n",
    "            Console.WriteLine($\"First composer in dictionay {firstWord}\");\n",
    "            Console.WriteLine();\n",
    "            Console.WriteLine($\"Last composer in dictionay {lastWord}\");\n",
    "        }\n",
    "    }\n",
    "}\n"
   ]
  },
  {
   "cell_type": "markdown",
   "metadata": {},
   "source": [
    "<img src=\"ProblemSet1_CSharp_Outputs/output_Ques2(d).png\">"
   ]
  },
  {
   "cell_type": "markdown",
   "metadata": {},
   "source": [
    "# Question 3 C#"
   ]
  },
  {
   "cell_type": "markdown",
   "metadata": {},
   "source": [
    "Implement function triangleArea(a,b,c)that takes as input the lengths of the 3sides of a triangle and returns the area of the triangle. By Heron's formula, the area of a triangle with side lengths a, b, and c iss(s-a)(s-b)(s-c), where s=(a+b+c)/2. >>> triangleArea(2,2,2)1.7320508075688772"
   ]
  },
  {
   "cell_type": "markdown",
   "metadata": {},
   "source": [
    "using System;\n",
    "using System.Linq;\n",
    "\n",
    "namespace solutionForProgramSet1\n",
    "{\n",
    "    class Program\n",
    "    {\n",
    "        static void Main(string[] args)\n",
    "        {\n",
    "            Console.Write(\"Enter value for side1 of tringle: \");\n",
    "            double side1 = double.Parse(Console.ReadLine());\n",
    "            Console.Write(\"Enter value for side2 of tringle: \");\n",
    "            double side2 = double.Parse(Console.ReadLine());\n",
    "            Console.Write(\"Enter value for side3 of tringle: \");\n",
    "            double side3 = double.Parse(Console.ReadLine());\n",
    "            double area = triangleArea(side1, side2, side3);\n",
    "            Console.WriteLine();\n",
    "            Console.WriteLine($\"Triangle area is: {area}\");\n",
    "        }\n",
    "        \n",
    "        static double triangleArea(double x,double y,double z)\n",
    "        {\n",
    "            double s = (x + y + z)/2d;\n",
    "            double area = Math.Sqrt(s * (s - x) * (s - y) * (s - z));\n",
    "            return area;\n",
    "        }\n",
    "    }\n",
    "}\n"
   ]
  },
  {
   "cell_type": "markdown",
   "metadata": {},
   "source": [
    "<img src=\"ProblemSet1_CSharp_Outputs/output_Ques3.png\">"
   ]
  },
  {
   "cell_type": "markdown",
   "metadata": {},
   "source": [
    "# Question 4 C#"
   ]
  },
  {
   "cell_type": "markdown",
   "metadata": {},
   "source": [
    "Write a program in C# Sharp to separate odd and even integers in separate arrays. \n",
    "Go to the editor\n",
    "Test Data:\n",
    "Input the number of elements to be stored in the array :5\n",
    "Input 5 elements in the array:\n",
    "element -0 : 25\n",
    "element -1 : 47\n",
    "element -2 : 42\n",
    "element -3 : 56\n",
    "element -4 : 32\n",
    "Expected Output: The Even elements are:42 56 32\n",
    "The Odd elements are:25 47"
   ]
  },
  {
   "cell_type": "markdown",
   "metadata": {},
   "source": [
    "using System;\n",
    "\n",
    "namespace solutionForProgramSet1\n",
    "{\n",
    "    class Program\n",
    "    {\n",
    "        static void Main(string[] args)\n",
    "        {\n",
    "\n",
    "            int[] arr = new int[5];\n",
    "            int[] arrEven = new int[5];\n",
    "            int[] arrOdd = new int[5];\n",
    "            int i, j = 0, k = 0;\n",
    "            Console.Write(\"Enter 5 elements in the array :\\n\");\n",
    "            for (i = 0; i < 5; i++)\n",
    "            {\n",
    "                Console.Write(\"element - {0} : \", i);\n",
    "                arr[i] = Convert.ToInt32(Console.ReadLine());\n",
    "            }\n",
    "            for (i = 0; i < 5; i++)\n",
    "            {\n",
    "                if (arr[i] % 2 == 0)\n",
    "                {\n",
    "                    arrEven[j] = arr[i];\n",
    "                    j++;\n",
    "                }\n",
    "                else\n",
    "                {\n",
    "                    arrOdd[k] = arr[i];\n",
    "                    k++;\n",
    "                }\n",
    "            }\n",
    "            Console.WriteLine();\n",
    "            Console.WriteLine(\"Even numbers:\");\n",
    "            for (i = 0; i < j; i++)\n",
    "            {\n",
    "                Console.WriteLine(arrEven[i]);\n",
    "            }\n",
    "            Console.WriteLine();\n",
    "            Console.WriteLine(\"Odd numbers:\");\n",
    "            for (i = 0; i < k; i++)\n",
    "            {\n",
    "                Console.WriteLine(arrOdd[i]);\n",
    "            }\n",
    "\n",
    "        }\n",
    "      \n",
    "    }\n",
    "}"
   ]
  },
  {
   "cell_type": "markdown",
   "metadata": {},
   "source": [
    "<img src=\"ProblemSet1_CSharp_Outputs/output_Ques4.png\">"
   ]
  },
  {
   "cell_type": "markdown",
   "metadata": {},
   "source": [
    "# Question 5 C#"
   ]
  },
  {
   "cell_type": "markdown",
   "metadata": {},
   "source": [
    "a.\tWrite a function inside(x,y,x1,y1,x2,y2)that returns True or False depending on whether the point (x,y)lies in the rectangle with lower left corner (x1,y1)and upper right corner (x2,y2).\n",
    ">>> inside(1,1,0,0,2,3)\n",
    "True\n",
    ">>> inside(-1,-1,0,0,2,3)\n",
    "False\n"
   ]
  },
  {
   "cell_type": "markdown",
   "metadata": {},
   "source": [
    "using System;\n",
    "\n",
    "namespace solutionForProgramSet1\n",
    "{\n",
    "    class Program\n",
    "    {\n",
    "        static void Main(string[] args)\n",
    "        {\n",
    "            int x1,y1,x2,y2,x,y;\n",
    "            Console.Write(\"Enter value for point X: \");\n",
    "            x = int.Parse(Console.ReadLine());\n",
    "            Console.Write(\"Enter value for Point Y: \");\n",
    "            y = int.Parse(Console.ReadLine());\n",
    "            Console.Write(\"Enter value for lower left-corner X1: \");\n",
    "            x1 = int.Parse(Console.ReadLine());\n",
    "            Console.Write(\"Enter value for lower left-corner Y1: \");\n",
    "            y1 = int.Parse(Console.ReadLine());\n",
    "            Console.Write(\"Enter value for upper right-corner X2: \");\n",
    "            x2 = int.Parse(Console.ReadLine());\n",
    "            Console.Write(\"Enter value for upper right-corner Y2: \");\n",
    "            y2 = int.Parse(Console.ReadLine());                     \n",
    "            if (FindPoint(x,y,x1,y1,x2,y2))\n",
    "            {\n",
    "                Console.Write(\"True\");\n",
    "            }\n",
    "                \n",
    "            else\n",
    "            {\n",
    "                Console.Write(\"False\");\n",
    "            }\n",
    "        }\n",
    "\n",
    "        static bool FindPoint(int x, int y, int x1,int y1, int x2, int y2)\n",
    "        {\n",
    "            if (x > x1 && x < x2 &&\n",
    "                y > y1 && y < y2)\n",
    "            {\n",
    "                Console.WriteLine();\n",
    "                return true;\n",
    "            }\n",
    "\n",
    "            else\n",
    "            {\n",
    "                Console.WriteLine();\n",
    "                return false;\n",
    "            } \n",
    "        }\n",
    "\n",
    "    }\n",
    "}"
   ]
  },
  {
   "cell_type": "markdown",
   "metadata": {},
   "source": [
    "<img src=\"ProblemSet1_CSharp_Outputs/output1_Ques5(a).png\">"
   ]
  },
  {
   "cell_type": "markdown",
   "metadata": {},
   "source": [
    "<img src=\"ProblemSet1_CSharp_Outputs/output2_Ques5(a).png\">"
   ]
  },
  {
   "cell_type": "markdown",
   "metadata": {},
   "source": [
    "b. Use function inside()from part a. to write an expression that tests whether the point (1,1) lies in both of the following rectangles: one with lower left corner (0.3, 0.5) and upper right corner (1.1, 0.7) and the other with lower left corner (0.5, 0.2) and upper right corner (1.1, 2)."
   ]
  },
  {
   "cell_type": "markdown",
   "metadata": {},
   "source": [
    "using System;\n",
    "\n",
    "namespace solutionForProgramSet1\n",
    "{\n",
    "    class Program\n",
    "    {\n",
    "        static void Main(string[] args)\n",
    "        {\n",
    "            float x1,y1,x2,y2,x3,y3,x4,y4,x,y;\n",
    "            Console.Write(\"Enter value for point X: \");\n",
    "            x = float.Parse(Console.ReadLine());\n",
    "            Console.Write(\"Enter value for Point Y: \");\n",
    "            y = float.Parse(Console.ReadLine());\n",
    "            Console.Write(\"Enter value for one lower left-corner X1: \");\n",
    "            x1 = float.Parse(Console.ReadLine());\n",
    "            Console.Write(\"Enter value for one lower left-corner Y1: \");\n",
    "            y1 = float.Parse(Console.ReadLine());\n",
    "            Console.Write(\"Enter value for one upper right-corner X2: \");\n",
    "            x2 = float.Parse(Console.ReadLine());\n",
    "            Console.Write(\"Enter value for one upper right-corner Y2: \");\n",
    "            y2 = float.Parse(Console.ReadLine());\n",
    "            Console.Write(\"Enter value for other lower left-corner X3: \");\n",
    "            x3 = float.Parse(Console.ReadLine());\n",
    "            Console.Write(\"Enter value for other lower left-corner Y3: \");\n",
    "            y3 = float.Parse(Console.ReadLine());\n",
    "            Console.Write(\"Enter value for other upper right-corner X4: \");\n",
    "            x4 = float.Parse(Console.ReadLine());\n",
    "            Console.Write(\"Enter value for other upper right-corner Y4: \");\n",
    "            y4 = float.Parse(Console.ReadLine());\n",
    "            Console.WriteLine();\n",
    "            if (inside(x,y,x1,y1,x2,y2,x3,y3,x4,y4))\n",
    "            {\n",
    "                Console.Write(\"True\");\n",
    "            }\n",
    "                \n",
    "            else\n",
    "            {\n",
    "                Console.Write(\"False\");\n",
    "            }\n",
    "        }\n",
    "\n",
    "        static bool inside(float x, float y,float x1, float y1, float x2,float y2, float x3, float y3,float x4, float y4)\n",
    "        {\n",
    "\n",
    " \n",
    "            float A = area(x1, y1, x2, y2, x3, y3) +\n",
    "                      area(x1, y1, x4, y4, x3, y3);\n",
    "  \n",
    "            float A1 = area(x, y, x1, y1, x2, y2);\n",
    " \n",
    "            float A2 = area(x, y, x2, y2, x3, y3);\n",
    " \n",
    "            float A3 = area(x, y, x3, y3, x4, y4);\n",
    "\n",
    "            float A4 = area(x, y, x1, y1, x4, y4);\n",
    "\n",
    "            // Check if sum of A1, A2, A3   \n",
    "            // and A4is same as A  \n",
    "            return (A == A1 + A2 + A3 + A4);\n",
    "        }\n",
    "\n",
    "        static float area(float x1,float y1, float x2, float y2,float x3, float y3)\n",
    "        {\n",
    "            return (float)Math.Abs((x1 * (y2 - y3) +\n",
    "                                    x2 * (y3 - y1) +\n",
    "                                    x3 * (y1 - y2)) / 2.0);\n",
    "        }\n",
    "\n",
    "    }\n",
    "}"
   ]
  },
  {
   "cell_type": "markdown",
   "metadata": {},
   "source": [
    "<img src=\"ProblemSet1_CSharp_Outputs/output_Ques5(b).png\">"
   ]
  },
  {
   "cell_type": "markdown",
   "metadata": {},
   "source": [
    "# Question 6 (Python)"
   ]
  },
  {
   "cell_type": "markdown",
   "metadata": {},
   "source": [
    "You can turn a word into pig-Latin using the following two rules (simplified):\n",
    "•If the word starts with a consonant, move that letter to the end and append 'ay'. For example, 'happy' becomes 'appyhay' and'pencil' becomes 'encilpay'.\n",
    "•If the word starts witha vowel, simply append 'way' to the end of the word. For example, 'enter' becomes 'enterway' and 'other' becomes 'otherway' . For our purposes, there are 5 vowels: a, e, i, o, u (so we count y as a consonant).\n",
    "\n",
    "Write a function pig()that takes a word (i.e., a string) as input and returns its pig-Latin form. Your function should still work if the input word contains upper case characters. Your output should always be lower case however. \n",
    ">>> pig('happy')\n",
    "'appyhay'\n",
    ">>> pig('Enter')\n",
    "'enterway' "
   ]
  },
  {
   "cell_type": "code",
   "execution_count": 16,
   "metadata": {},
   "outputs": [
    {
     "name": "stdout",
     "output_type": "stream",
     "text": [
      "Enter word : happy\n"
     ]
    },
    {
     "data": {
      "text/plain": [
       "'appyhay'"
      ]
     },
     "execution_count": 16,
     "metadata": {},
     "output_type": "execute_result"
    }
   ],
   "source": [
    "word=input(\"Enter word : \")\n",
    "def pig(x):\n",
    "    if(x[0]=='A' or x[0]=='a' or x[0]=='E' or x[0] =='e' or x[0]=='I'or x[0]=='i' or x[0]=='O' or x[0]=='o' or x[0]=='U' or x[0]=='u'):\n",
    "       outputIfVowel=x+\"way\"\n",
    "       return outputIfVowel      \n",
    "    else:\n",
    "       outputIfConsonant=x[1:]+x[0]+\"ay\"\n",
    "       return outputIfConsonant\n",
    "pig(word)"
   ]
  },
  {
   "cell_type": "code",
   "execution_count": 18,
   "metadata": {},
   "outputs": [
    {
     "data": {
      "text/plain": [
       "'enterway'"
      ]
     },
     "execution_count": 18,
     "metadata": {},
     "output_type": "execute_result"
    }
   ],
   "source": [
    "pig('enter')"
   ]
  },
  {
   "cell_type": "markdown",
   "metadata": {},
   "source": [
    "# Question 7 (Python)"
   ]
  },
  {
   "cell_type": "markdown",
   "metadata": {},
   "source": [
    "File bloodtype1.txtrecords blood-types of patients (A, B, AB, O or OO) at a clinic. Write a function bldcount()that reads the file with namenameand reports (i.e., prints) how many patients there are in each bloodtype.\n",
    "\n",
    ">>> bldcount('bloodtype.txt')\n",
    "There are 10 patients of blood type A.\n",
    "There is one patient of blood type B.\n",
    "There are 10 patients of blood type AB.\n",
    "There are 12 patients of blood type O.\n",
    "There are no patients of blood type OO."
   ]
  },
  {
   "cell_type": "code",
   "execution_count": 1,
   "metadata": {},
   "outputs": [
    {
     "name": "stdout",
     "output_type": "stream",
     "text": [
      "There are  13  patients of blood type AB .\n",
      "There is  1  patient of blood type B .\n",
      "There are  15  patients of blood type O .\n",
      "There are  15  patients of blood type A .\n",
      "There is  0  patient of blood type OO .\n"
     ]
    }
   ],
   "source": [
    "def bldcount(x):\n",
    " openBloodTypeFile = open(x, \"r\") \n",
    " bloodTypeDic = dict(AB=0,B=0,O=0,A=0,OO=0)\n",
    " #estDic={'P1':'A','P2':'B','P3':'AB','P4':'O','P5':'OO'}\n",
    " #eys=testDic.keys()\n",
    " \n",
    " for line in openBloodTypeFile:\n",
    "    # Remove the leading spaces and newline character \n",
    "     line = line.strip() \n",
    "     words = line.split(\" \")\n",
    "     \n",
    "     for word in words: \n",
    "         if word in bloodTypeDic: \n",
    "             bloodTypeDic[word] = bloodTypeDic[word] + 1\n",
    "             #print(bloodTypeDic)  \n",
    "         else: \n",
    "             bloodTypeDic[word] = 1\n",
    " for bloodTyp in list(bloodTypeDic.keys()):\n",
    "   #print(bloodTypeDic)\n",
    "    if bloodTypeDic[bloodTyp]<=1:\n",
    "     print(\"There is \",bloodTypeDic[bloodTyp],\" patient of blood type\",bloodTyp,\".\")\n",
    "    else:\n",
    "     print(\"There are \",bloodTypeDic[bloodTyp],\" patients of blood type\",bloodTyp,\".\")\n",
    "\n",
    "\n",
    "bldcount(\"ProgramSet1_PythonRefFiles/bloodtype1.txt\")"
   ]
  },
  {
   "cell_type": "markdown",
   "metadata": {},
   "source": [
    "# Question 8 (Python)"
   ]
  },
  {
   "cell_type": "markdown",
   "metadata": {},
   "source": [
    "Write a function curconv()that takes as input:\n",
    "1.a currency represented using a string (e.g., 'JPY' for the Japanese Yen or 'EUR' for the Euro)\n",
    "2.an amountand \n",
    "then converts and returns the amount in US dollars.\n",
    ">>> curconv('EUR', 100)\n",
    "122.96544\n",
    ">>> curconv('JPY', 100)\n",
    "1.241401"
   ]
  },
  {
   "cell_type": "code",
   "execution_count": 62,
   "metadata": {},
   "outputs": [
    {
     "name": "stdout",
     "output_type": "stream",
     "text": [
      "Enter Currency: jpy\n",
      "Enter Amount: 100\n",
      "Amount in US dollar:\n",
      "1.241401\n"
     ]
    }
   ],
   "source": [
    "enterCurrency=input(\"Enter Currency: \")\n",
    "amount=float(input(\"Enter Amount: \"))\n",
    "currency=enterCurrency.upper()\n",
    "#print(currency)\n",
    "def curconv(currency,amount):\n",
    "    readCurrencyFile=open('ProgramSet1_PythonRefFiles/currency.txt','r')\n",
    "    currencyFileLines=readCurrencyFile.readlines()\n",
    "    currencyDetails=[]\n",
    "    for x in currencyFileLines:\n",
    "      if(x.split()[0]==currency):\n",
    "          return(float(x.split()[1]))\n",
    "          print(x.split()[0])\n",
    "    readCurrencyFile.close()\n",
    "currencyValue=curconv(currency,amount)\n",
    "#print(currencyValue)\n",
    "if(currencyValue==None):\n",
    " print(\"Sorry details regarding this your mentioned currency is available!!!\")\n",
    "else:\n",
    " print(\"Amount in US dollar:\")\n",
    " print(currencyValue*amount)\n"
   ]
  },
  {
   "cell_type": "markdown",
   "metadata": {},
   "source": [
    "# Question 9 (Python)"
   ]
  },
  {
   "cell_type": "markdown",
   "metadata": {},
   "source": [
    "Each of the following will cause an exception (an error). Identify what type of exception each will cause."
   ]
  },
  {
   "cell_type": "markdown",
   "metadata": {},
   "source": [
    "1. Trying to add incompatible variables, as in adding 6 + ‘a’"
   ]
  },
  {
   "cell_type": "code",
   "execution_count": 10,
   "metadata": {},
   "outputs": [
    {
     "ename": "TypeError",
     "evalue": "can only concatenate str (not \"int\") to str",
     "output_type": "error",
     "traceback": [
      "\u001b[1;31m---------------------------------------------------------------------------\u001b[0m",
      "\u001b[1;31mTypeError\u001b[0m                                 Traceback (most recent call last)",
      "\u001b[1;32m<ipython-input-10-644937badef7>\u001b[0m in \u001b[0;36m<module>\u001b[1;34m\u001b[0m\n\u001b[0;32m      1\u001b[0m \u001b[0mA\u001b[0m\u001b[1;33m=\u001b[0m\u001b[1;34m'a'\u001b[0m\u001b[1;33m\u001b[0m\u001b[1;33m\u001b[0m\u001b[0m\n\u001b[0;32m      2\u001b[0m \u001b[0mB\u001b[0m\u001b[1;33m=\u001b[0m\u001b[1;36m6\u001b[0m\u001b[1;33m\u001b[0m\u001b[1;33m\u001b[0m\u001b[0m\n\u001b[1;32m----> 3\u001b[1;33m \u001b[0mC\u001b[0m\u001b[1;33m=\u001b[0m\u001b[0mA\u001b[0m\u001b[1;33m+\u001b[0m\u001b[0mB\u001b[0m\u001b[1;33m\u001b[0m\u001b[1;33m\u001b[0m\u001b[0m\n\u001b[0m\u001b[0;32m      4\u001b[0m \u001b[0mprint\u001b[0m\u001b[1;33m(\u001b[0m\u001b[0mC\u001b[0m\u001b[1;33m)\u001b[0m\u001b[1;33m\u001b[0m\u001b[1;33m\u001b[0m\u001b[0m\n",
      "\u001b[1;31mTypeError\u001b[0m: can only concatenate str (not \"int\") to str"
     ]
    }
   ],
   "source": [
    "A='a'\n",
    "B=6\n",
    "C=A+B\n",
    "print(C)"
   ]
  },
  {
   "cell_type": "markdown",
   "metadata": {},
   "source": [
    "2. Referring to the 12th item of a list that has only 10 items"
   ]
  },
  {
   "cell_type": "code",
   "execution_count": 11,
   "metadata": {},
   "outputs": [
    {
     "ename": "IndexError",
     "evalue": "list index out of range",
     "output_type": "error",
     "traceback": [
      "\u001b[1;31m---------------------------------------------------------------------------\u001b[0m",
      "\u001b[1;31mIndexError\u001b[0m                                Traceback (most recent call last)",
      "\u001b[1;32m<ipython-input-11-0d1dddcdb5e9>\u001b[0m in \u001b[0;36m<module>\u001b[1;34m\u001b[0m\n\u001b[0;32m      1\u001b[0m \u001b[0mlist\u001b[0m\u001b[1;33m=\u001b[0m\u001b[1;33m[\u001b[0m\u001b[1;36m1\u001b[0m\u001b[1;33m,\u001b[0m\u001b[1;36m2\u001b[0m\u001b[1;33m,\u001b[0m\u001b[1;36m3\u001b[0m\u001b[1;33m,\u001b[0m\u001b[1;36m4\u001b[0m\u001b[1;33m,\u001b[0m\u001b[1;36m5\u001b[0m\u001b[1;33m,\u001b[0m\u001b[1;36m6\u001b[0m\u001b[1;33m,\u001b[0m\u001b[1;36m7\u001b[0m\u001b[1;33m,\u001b[0m\u001b[1;36m8\u001b[0m\u001b[1;33m,\u001b[0m\u001b[1;36m9\u001b[0m\u001b[1;33m,\u001b[0m\u001b[1;36m10\u001b[0m\u001b[1;33m]\u001b[0m\u001b[1;33m\u001b[0m\u001b[1;33m\u001b[0m\u001b[0m\n\u001b[1;32m----> 2\u001b[1;33m \u001b[0mprint\u001b[0m\u001b[1;33m(\u001b[0m\u001b[0mlist\u001b[0m\u001b[1;33m[\u001b[0m\u001b[1;36m11\u001b[0m\u001b[1;33m]\u001b[0m\u001b[1;33m)\u001b[0m\u001b[1;33m\u001b[0m\u001b[1;33m\u001b[0m\u001b[0m\n\u001b[0m",
      "\u001b[1;31mIndexError\u001b[0m: list index out of range"
     ]
    }
   ],
   "source": [
    "list=[1,2,3,4,5,6,7,8,9,10]\n",
    "print(list[11])"
   ]
  },
  {
   "cell_type": "markdown",
   "metadata": {},
   "source": [
    "3. Using a value that is out of range for a function’s input, such as calling math.sqrt(-1.0)"
   ]
  },
  {
   "cell_type": "code",
   "execution_count": 12,
   "metadata": {},
   "outputs": [
    {
     "ename": "ValueError",
     "evalue": "math domain error",
     "output_type": "error",
     "traceback": [
      "\u001b[1;31m---------------------------------------------------------------------------\u001b[0m",
      "\u001b[1;31mValueError\u001b[0m                                Traceback (most recent call last)",
      "\u001b[1;32m<ipython-input-12-2d15c0f8d318>\u001b[0m in \u001b[0;36m<module>\u001b[1;34m\u001b[0m\n\u001b[0;32m      3\u001b[0m  \u001b[0mi\u001b[0m \u001b[1;33m=\u001b[0m \u001b[0mint\u001b[0m\u001b[1;33m(\u001b[0m\u001b[0mmath\u001b[0m\u001b[1;33m.\u001b[0m\u001b[0msqrt\u001b[0m\u001b[1;33m(\u001b[0m\u001b[0mx\u001b[0m\u001b[1;33m)\u001b[0m\u001b[1;33m)\u001b[0m\u001b[1;33m\u001b[0m\u001b[1;33m\u001b[0m\u001b[0m\n\u001b[0;32m      4\u001b[0m  \u001b[0mprint\u001b[0m\u001b[1;33m(\u001b[0m\u001b[0mi\u001b[0m\u001b[1;33m)\u001b[0m\u001b[1;33m\u001b[0m\u001b[1;33m\u001b[0m\u001b[0m\n\u001b[1;32m----> 5\u001b[1;33m \u001b[0mcalculateResult\u001b[0m\u001b[1;33m(\u001b[0m\u001b[1;33m-\u001b[0m\u001b[1;36m0.1\u001b[0m\u001b[1;33m)\u001b[0m\u001b[1;33m\u001b[0m\u001b[1;33m\u001b[0m\u001b[0m\n\u001b[0m",
      "\u001b[1;32m<ipython-input-12-2d15c0f8d318>\u001b[0m in \u001b[0;36mcalculateResult\u001b[1;34m(x)\u001b[0m\n\u001b[0;32m      1\u001b[0m \u001b[1;32mimport\u001b[0m \u001b[0mmath\u001b[0m\u001b[1;33m\u001b[0m\u001b[1;33m\u001b[0m\u001b[0m\n\u001b[0;32m      2\u001b[0m \u001b[1;32mdef\u001b[0m \u001b[0mcalculateResult\u001b[0m\u001b[1;33m(\u001b[0m\u001b[0mx\u001b[0m\u001b[1;33m)\u001b[0m\u001b[1;33m:\u001b[0m\u001b[1;33m\u001b[0m\u001b[1;33m\u001b[0m\u001b[0m\n\u001b[1;32m----> 3\u001b[1;33m  \u001b[0mi\u001b[0m \u001b[1;33m=\u001b[0m \u001b[0mint\u001b[0m\u001b[1;33m(\u001b[0m\u001b[0mmath\u001b[0m\u001b[1;33m.\u001b[0m\u001b[0msqrt\u001b[0m\u001b[1;33m(\u001b[0m\u001b[0mx\u001b[0m\u001b[1;33m)\u001b[0m\u001b[1;33m)\u001b[0m\u001b[1;33m\u001b[0m\u001b[1;33m\u001b[0m\u001b[0m\n\u001b[0m\u001b[0;32m      4\u001b[0m  \u001b[0mprint\u001b[0m\u001b[1;33m(\u001b[0m\u001b[0mi\u001b[0m\u001b[1;33m)\u001b[0m\u001b[1;33m\u001b[0m\u001b[1;33m\u001b[0m\u001b[0m\n\u001b[0;32m      5\u001b[0m \u001b[0mcalculateResult\u001b[0m\u001b[1;33m(\u001b[0m\u001b[1;33m-\u001b[0m\u001b[1;36m0.1\u001b[0m\u001b[1;33m)\u001b[0m\u001b[1;33m\u001b[0m\u001b[1;33m\u001b[0m\u001b[0m\n",
      "\u001b[1;31mValueError\u001b[0m: math domain error"
     ]
    }
   ],
   "source": [
    "import math\n",
    "def calculateResult(x):\n",
    " i = int(math.sqrt(x))\n",
    " print(i)\n",
    "calculateResult(-0.1)"
   ]
  },
  {
   "cell_type": "markdown",
   "metadata": {},
   "source": [
    "4. Using an undeclared variable, such as print(x)whenxhas not been defined "
   ]
  },
  {
   "cell_type": "code",
   "execution_count": 13,
   "metadata": {},
   "outputs": [
    {
     "ename": "NameError",
     "evalue": "name 'y' is not defined",
     "output_type": "error",
     "traceback": [
      "\u001b[1;31m---------------------------------------------------------------------------\u001b[0m",
      "\u001b[1;31mNameError\u001b[0m                                 Traceback (most recent call last)",
      "\u001b[1;32m<ipython-input-13-d9183e048de3>\u001b[0m in \u001b[0;36m<module>\u001b[1;34m\u001b[0m\n\u001b[1;32m----> 1\u001b[1;33m \u001b[0mprint\u001b[0m\u001b[1;33m(\u001b[0m\u001b[0my\u001b[0m\u001b[1;33m)\u001b[0m\u001b[1;33m\u001b[0m\u001b[1;33m\u001b[0m\u001b[0m\n\u001b[0m",
      "\u001b[1;31mNameError\u001b[0m: name 'y' is not defined"
     ]
    }
   ],
   "source": [
    "print(y)"
   ]
  },
  {
   "cell_type": "markdown",
   "metadata": {},
   "source": [
    "5. Trying to open a file that does not exist, such as mistyping the file name or looking in the wrong directory."
   ]
  },
  {
   "cell_type": "code",
   "execution_count": 14,
   "metadata": {},
   "outputs": [
    {
     "ename": "FileNotFoundError",
     "evalue": "[Errno 2] No such file or directory: 'C:/Users/sony/Desktop/SmapleForAssignment/bloodtype.txt'",
     "output_type": "error",
     "traceback": [
      "\u001b[1;31m---------------------------------------------------------------------------\u001b[0m",
      "\u001b[1;31mFileNotFoundError\u001b[0m                         Traceback (most recent call last)",
      "\u001b[1;32m<ipython-input-14-c8b9cf284f7b>\u001b[0m in \u001b[0;36m<module>\u001b[1;34m\u001b[0m\n\u001b[1;32m----> 1\u001b[1;33m \u001b[0mopenFile\u001b[0m\u001b[1;33m=\u001b[0m\u001b[0mopen\u001b[0m\u001b[1;33m(\u001b[0m\u001b[1;34m\"C:/Users/sony/Desktop/SmapleForAssignment/bloodtype.txt\"\u001b[0m\u001b[1;33m,\u001b[0m\u001b[1;34m\"r\"\u001b[0m\u001b[1;33m)\u001b[0m\u001b[1;33m\u001b[0m\u001b[1;33m\u001b[0m\u001b[0m\n\u001b[0m",
      "\u001b[1;31mFileNotFoundError\u001b[0m: [Errno 2] No such file or directory: 'C:/Users/sony/Desktop/SmapleForAssignment/bloodtype.txt'"
     ]
    }
   ],
   "source": [
    "openFile=open(\"C:/Users/sony/Desktop/SmapleForAssignment/bloodtype.txt\",\"r\")"
   ]
  },
  {
   "cell_type": "markdown",
   "metadata": {},
   "source": [
    "# Question 10 (Python)"
   ]
  },
  {
   "cell_type": "markdown",
   "metadata": {},
   "source": [
    "Encryptionis the process of hiding the meaning of a text by substituting letters in the message with other letters, according to some system. If the process is successful, no one but the intended recipient can understand the encrypted message. Cryptanalysisrefers to attempts to undo the encryption, even if some details of the encryption are unknown (for example, if an encrypted message has been intercepted). The first step of cryptanalysis is often to build up a table of letter frequencies in the encrypted text. Assume that the string lettersis already defined as 'abcdefghijklmnopqrstuvwxyz'. Write a function called frequencies()that takes a string as its only parameter, and returns a list of integers, showing the number of times each character appears in the text. Your function may ignore any characters that are not in letters. \n",
    "\n",
    ">>> frequencies('The quick red fox got bored and went home.')[1, 1, 1, 3, 5, 1, 1, 2, 1, 0, 1, 0, 1, 2, 4, 0, 1, 2, 0, 2, 1, 0, 1, 1, 0, 0]\n",
    ">>> frequencies('apple')"
   ]
  },
  {
   "cell_type": "code",
   "execution_count": 15,
   "metadata": {},
   "outputs": [
    {
     "name": "stdout",
     "output_type": "stream",
     "text": [
      "Enter word : apple\n",
      "1\n",
      "0\n",
      "0\n",
      "0\n",
      "1\n",
      "0\n",
      "0\n",
      "0\n",
      "0\n",
      "0\n",
      "0\n",
      "1\n",
      "0\n",
      "0\n",
      "0\n",
      "2\n",
      "0\n",
      "0\n",
      "0\n",
      "0\n",
      "0\n",
      "0\n",
      "0\n",
      "0\n",
      "0\n",
      "0\n"
     ]
    }
   ],
   "source": [
    "word=input(\"Enter word : \")\n",
    "Alphabet=['a','b','c','d','e','f','g','h','i','j','k','l','m','n','o','p','q','r','s','t','u','v','w','x','y','z']\n",
    "for i in range(0,26):\n",
    "    print(word.count(Alphabet[i]))"
   ]
  }
 ],
 "metadata": {
  "kernelspec": {
   "display_name": "Python 3",
   "language": "python",
   "name": "python3"
  },
  "language_info": {
   "codemirror_mode": {
    "name": "ipython",
    "version": 3
   },
   "file_extension": ".py",
   "mimetype": "text/x-python",
   "name": "python",
   "nbconvert_exporter": "python",
   "pygments_lexer": "ipython3",
   "version": "3.8.5"
  }
 },
 "nbformat": 4,
 "nbformat_minor": 4
}
